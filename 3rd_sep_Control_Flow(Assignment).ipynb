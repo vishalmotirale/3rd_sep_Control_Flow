{
 "cells": [
  {
   "cell_type": "code",
   "execution_count": 1,
   "id": "a1a00f4a",
   "metadata": {},
   "outputs": [
    {
     "name": "stdout",
     "output_type": "stream",
     "text": [
      "Enter the number: 42\n",
      "positive number\n"
     ]
    }
   ],
   "source": [
    "number=float(input(\"Enter the number: \"))\n",
    "if number >0:\n",
    "    print(\"positive number\")\n",
    "elif number <0:\n",
    "    print(\"negative number\")\n",
    "else :\n",
    "    print(\"number is zero\")"
   ]
  },
  {
   "cell_type": "code",
   "execution_count": 3,
   "id": "d9b09293",
   "metadata": {},
   "outputs": [
    {
     "name": "stdout",
     "output_type": "stream",
     "text": [
      "age of person: 18\n",
      "person is eligible for voting\n"
     ]
    }
   ],
   "source": [
    "age = int(input(\"age of person: \"))\n",
    "if age >= 18:\n",
    "    print(\"person is eligible for voting\")\n",
    "else :\n",
    "    print(\"person is not eligible for voting\")"
   ]
  },
  {
   "cell_type": "code",
   "execution_count": 4,
   "id": "11dd1393",
   "metadata": {},
   "outputs": [
    {
     "name": "stdout",
     "output_type": "stream",
     "text": [
      "enter the first number:15\n",
      "enter the second number:45\n",
      "number 2 is maximum\n"
     ]
    }
   ],
   "source": [
    "num1= float(input(\"enter the first number:\"))\n",
    "num2= float(input(\"enter the second number:\"))\n",
    "\n",
    "if num1>num2:\n",
    "    print (\"number 1 is maximum\")\n",
    "else:\n",
    "    print(\"number 2 is maximum\")"
   ]
  },
  {
   "cell_type": "code",
   "execution_count": 15,
   "id": "2dd598e2",
   "metadata": {},
   "outputs": [
    {
     "name": "stdout",
     "output_type": "stream",
     "text": [
      "enter the year: 2020\n",
      "2020 Is a leap year\n"
     ]
    }
   ],
   "source": [
    "year=int(input(\"enter the year: \"))\n",
    "if (year % 4 == 0 and year % 100 != 0) or (year % 400 == 0):\n",
    "    print(year,\"Is a leap year\")\n",
    "else :\n",
    "    print(year,\"is not leap year\")"
   ]
  },
  {
   "cell_type": "code",
   "execution_count": 21,
   "id": "104d022c",
   "metadata": {},
   "outputs": [
    {
     "name": "stdout",
     "output_type": "stream",
     "text": [
      "Enter the character: vi\n",
      "Invalid input.please enter single alphabet character.\n"
     ]
    }
   ],
   "source": [
    "char= input(\"Enter the character: \")\n",
    "char=char.lower()\n",
    "if char.isalpha() and len(char) == 1:\n",
    "    if char in 'aeiou':\n",
    "        print('character is vowel')\n",
    "    else: \n",
    "        print('character in consonant')\n",
    "        \n",
    "else:\n",
    "    print('Invalid input.please enter single alphabet character.')"
   ]
  },
  {
   "cell_type": "code",
   "execution_count": 24,
   "id": "23208b33",
   "metadata": {},
   "outputs": [
    {
     "name": "stdout",
     "output_type": "stream",
     "text": [
      "enter s number: 78596632\n",
      "number is even\n"
     ]
    }
   ],
   "source": [
    "num= int(input(\"enter s number: \"))\n",
    "if num % 2==0:\n",
    "    print(\"number is even\")\n",
    "else :\n",
    "    print(\"number is odd\")"
   ]
  },
  {
   "cell_type": "code",
   "execution_count": 30,
   "id": "0dd39d84",
   "metadata": {},
   "outputs": [
    {
     "name": "stdout",
     "output_type": "stream",
     "text": [
      "enter the number: -45\n",
      "The absolute value of -45.0 is 45.0\n"
     ]
    }
   ],
   "source": [
    "num = float(input(\"enter the number: \"))\n",
    "\n",
    "if num < 0:\n",
    "    absolute_value = -number\n",
    "else :\n",
    "    absolute_value = number\n",
    "    \n",
    "print(f\"The absolute value of {num} is {absolute_value}\")\n",
    "    \n",
    "    "
   ]
  },
  {
   "cell_type": "code",
   "execution_count": 35,
   "id": "2535a08b",
   "metadata": {},
   "outputs": [
    {
     "name": "stdout",
     "output_type": "stream",
     "text": [
      "enter the first number: 145\n",
      "enter the second number: 156\n",
      "enter the third number: 124\n",
      "num2 is greater than num1 and num3\n"
     ]
    }
   ],
   "source": [
    "num1= float(input(\"enter the first number: \"))\n",
    "num2= float(input(\"enter the second number: \"))\n",
    "num3= float(input(\"enter the third number: \"))\n",
    "\n",
    "if num1 >= num2 and num1 >= num3:\n",
    "    print(\"num1 is greater than num2 and num3\")\n",
    "elif num2 >= num1 and num2 >= num3:\n",
    "        print(\"num2 is greater than num1 and num3\")\n",
    "else:\n",
    "    print(\"num3 is greater than num1 and num2\")"
   ]
  },
  {
   "cell_type": "code",
   "execution_count": 44,
   "id": "785ff79e",
   "metadata": {},
   "outputs": [
    {
     "name": "stdout",
     "output_type": "stream",
     "text": [
      "enter the string: racecar\n",
      "'racecar' is palindrome.\n"
     ]
    }
   ],
   "source": [
    "input_string = input(\"enter the string: \")\n",
    "cleaned_string = input_string.replace(\" \",\"\").lower()\n",
    "reversed_string = cleaned_string[::-1]\n",
    "if cleaned_string == reversed_string:\n",
    "    print(f\"'{input_string}' is palindrome.\")\n",
    "else:\n",
    "    print(f\"'{input_string}' is not palindrome.\")"
   ]
  },
  {
   "cell_type": "code",
   "execution_count": 1,
   "id": "fef0d190",
   "metadata": {},
   "outputs": [
    {
     "name": "stdin",
     "output_type": "stream",
     "text": [
      "Enter the student's score:  85\n"
     ]
    },
    {
     "name": "stdout",
     "output_type": "stream",
     "text": [
      "B\n"
     ]
    }
   ],
   "source": [
    "score = float(input(\"Enter the student's score: \"))\n",
    "A_score = 90\n",
    "B_score = 80\n",
    "C_score = 70\n",
    "D_score = 60\n",
    "\n",
    "if score >= A_score:\n",
    "    print('A')\n",
    "elif  score >= B_score:\n",
    "    print('B')\n",
    "elif score >= C_score:\n",
    "    print('C')\n",
    "elif score >= D_score:\n",
    "    print('D')\n",
    "else :\n",
    "    print('F')"
   ]
  },
  {
   "cell_type": "code",
   "execution_count": 1,
   "id": "441bc5d0",
   "metadata": {},
   "outputs": [
    {
     "name": "stdout",
     "output_type": "stream",
     "text": [
      "Enter the first number: 56\n",
      "Enter the second number: 485\n",
      "Enter the third number: 123\n",
      "The largest number is: 485.0\n"
     ]
    }
   ],
   "source": [
    "num1 = float(input(\"Enter the first number: \"))\n",
    "num2 = float(input(\"Enter the second number: \"))\n",
    "num3 = float(input(\"Enter the third number: \"))\n",
    "\n",
    "if num1 >= num2:\n",
    "    if num1 >= num3:\n",
    "        largest = num1\n",
    "    else:\n",
    "        largest = num3\n",
    "else:\n",
    "    if num2 >= num3:\n",
    "        largest = num2\n",
    "    else:\n",
    "        largest = num3\n",
    "\n",
    "print(\"The largest number is:\", largest)\n"
   ]
  },
  {
   "cell_type": "code",
   "execution_count": 5,
   "id": "c85c893d",
   "metadata": {},
   "outputs": [
    {
     "name": "stdout",
     "output_type": "stream",
     "text": [
      "Enter length of first side :12\n",
      "Enter length of seconde side :12\n",
      "Enter length of third side :25\n",
      "invaild length of sides for forming a triangle\n"
     ]
    }
   ],
   "source": [
    "side1= float(input(\"Enter length of first side :\"))\n",
    "side2= float(input(\"Enter length of seconde side :\"))\n",
    "side3= float(input(\"Enter length of third side :\"))\n",
    "\n",
    "if side1+side2 <= side3 or side2+side3 <= side1 or side1+side3 <= side2 :\n",
    "    print(\"invaild length of sides for forming a triangle\")\n",
    "    \n",
    "else :\n",
    "    if side1 == side2 == side3:\n",
    "        print(\"equilateral triangle\")\n",
    "    elif side1== side2 or side2==side3 or side3 == side1:\n",
    "        print(\"isoscales triangle\")\n",
    "    else:\n",
    "        print(\"scalene triangle\")"
   ]
  },
  {
   "cell_type": "code",
   "execution_count": 9,
   "id": "565ed824",
   "metadata": {},
   "outputs": [
    {
     "name": "stdout",
     "output_type": "stream",
     "text": [
      "Enter a year:2004\n",
      "is leap year\n",
      "2004 is not century year\n"
     ]
    }
   ],
   "source": [
    "year = int(input(\"Enter a year:\"))\n",
    " \n",
    "if ((year % 4 == 0 and year % 100 != 0) or year % 400 == 0):\n",
    "    print(\"is leap year\")\n",
    "    \n",
    "else :\n",
    "    print(\"is not leap year\")\n",
    "    \n",
    "if year % 100 == 0:\n",
    "    print(year,\"is century year\")\n",
    "    \n",
    "else:\n",
    "    print(year,\"is not century year\")\n",
    "    \n",
    "         "
   ]
  },
  {
   "cell_type": "code",
   "execution_count": 14,
   "id": "c3aad5a3",
   "metadata": {},
   "outputs": [
    {
     "name": "stdout",
     "output_type": "stream",
     "text": [
      " Enter a number:-12\n",
      "-12.0 is negative.\n"
     ]
    }
   ],
   "source": [
    "num = float(input(\" Enter a number:\"))\n",
    "\n",
    "if num > 0:\n",
    "    print(num,\"is positive.\")\n",
    "elif num < 0 :\n",
    "        print(num,\"is negative.\")\n",
    "else :\n",
    "    print(num,\"is zero.\")"
   ]
  },
  {
   "cell_type": "code",
   "execution_count": 15,
   "id": "cc5e4358",
   "metadata": {},
   "outputs": [
    {
     "name": "stdout",
     "output_type": "stream",
     "text": [
      "Enter the age : 45\n",
      "person is adult\n"
     ]
    }
   ],
   "source": [
    "age = int(input(\"Enter the age : \"))\n",
    "\n",
    "if age > 13 and age < 19 :\n",
    "    print(\"person is teenager.\")\n",
    "    \n",
    "elif age<13:\n",
    "    print(\"person is child\")\n",
    "    \n",
    "else :\n",
    "    print(\"person is adult\")"
   ]
  },
  {
   "cell_type": "code",
   "execution_count": 17,
   "id": "4e07d03b",
   "metadata": {},
   "outputs": [
    {
     "name": "stdout",
     "output_type": "stream",
     "text": [
      "Enter the angle measure in degrees : 158\n",
      "this is obtuse angle.\n"
     ]
    }
   ],
   "source": [
    "Angle_measure = float(input(\"Enter the angle measure in degrees : \"))\n",
    "if 0< Angle_measure < 90:\n",
    "    print(\"This is acute angle.\")\n",
    "elif Angle_measure == 90 :\n",
    "    print(\"This is a right angle.\")\n",
    "elif 90<Angle_measure<180:\n",
    "    print(\"this is obtuse angle.\")\n",
    "\n",
    "else:\n",
    "    print(\"this is neither acute , obtuse nor right angle.\")\n",
    "    "
   ]
  },
  {
   "cell_type": "code",
   "execution_count": 19,
   "id": "afc9763d",
   "metadata": {},
   "outputs": [
    {
     "name": "stdout",
     "output_type": "stream",
     "text": [
      "Coefficient of a:45\n",
      "coefficient of b:12\n",
      "coefficient of c:96\n",
      "The roots are complex:-0.13333333333333333 + 1.4544949486180951i and -0.13333333333333333 - 1.4544949486180951i\n"
     ]
    }
   ],
   "source": [
    "a = float(input(\"Coefficient of a:\"))\n",
    "b = float(input(\"coefficient of b:\"))\n",
    "c = float(input(\"coefficient of c:\"))\n",
    " \n",
    "discriminant = b**2 - 4*a*c\n",
    "\n",
    "if discriminant > 0 :\n",
    "    root1 = (-b + (discriminant)**0.5)/(2*a)\n",
    "    root1 = (-b - (discriminant)**0.5)/(2*a)\n",
    "    \n",
    "    print(f\"The roots are real and distinct : {root1} and {root2}\")\n",
    "    \n",
    "elif discriminant == 0 :\n",
    "    root1 = -b / (2*a)\n",
    "    print(f\"The root is real repeated: {root1}\")\n",
    "    \n",
    "else:\n",
    "    real_part= -b / (2*a)\n",
    "    imaginary_part=(abs(discriminant)**0.5)/(2*a)\n",
    "    print(f\"The roots are complex:{real_part} + {imaginary_part}i and {real_part} - {imaginary_part}i\")\n",
    "    "
   ]
  },
  {
   "cell_type": "code",
   "execution_count": 24,
   "id": "6f6e0f0e",
   "metadata": {},
   "outputs": [
    {
     "name": "stdout",
     "output_type": "stream",
     "text": [
      "Enter a number (1 for monday, 2 for tuesday, etc.):7\n",
      "The day corresponding to 7 is sun.\n"
     ]
    }
   ],
   "source": [
    "day_num= int(input(\"Enter a number (1 for monday, 2 for tuesday, etc.):\"))\n",
    "\n",
    "days_of_week = [\"mon\",\"tue\",\"wed\",\"thu\",\"fri\",\"sat\",\"sun\"]\n",
    "if  1 <= day_num <= 7:\n",
    "    day_name = days_of_week[day_num - 1]\n",
    "    print(f\"The day corresponding to {day_num} is {day_name}.\")\n",
    "    \n",
    "else:\n",
    "    print(\"Invaild input. Please enter a number between 1 and 7.\")"
   ]
  },
  {
   "cell_type": "code",
   "execution_count": 4,
   "id": "ca4bf992",
   "metadata": {},
   "outputs": [
    {
     "name": "stdin",
     "output_type": "stream",
     "text": [
      "Enter a number 142\n"
     ]
    },
    {
     "name": "stdout",
     "output_type": "stream",
     "text": [
      "142 is not prime number\n"
     ]
    }
   ],
   "source": [
    "n = int(input(\"Enter a number\"))\n",
    "for i in range(2, int(n**0.5)+1):\n",
    "        if n%1 == 0:\n",
    "            print(f'{n} is not prime number' )\n",
    "            break\n",
    "else:\n",
    "    print(f'{n} is prime number')"
   ]
  },
  {
   "cell_type": "code",
   "execution_count": 1,
   "id": "6ac535e7-7264-4aea-a114-2540e301ace1",
   "metadata": {},
   "outputs": [
    {
     "name": "stdin",
     "output_type": "stream",
     "text": [
      "Enter the student's score:  83\n"
     ]
    },
    {
     "name": "stdout",
     "output_type": "stream",
     "text": [
      "A Grade\n"
     ]
    }
   ],
   "source": [
    "score = int(input(\"Enter the student's score: \"))\n",
    "\n",
    "if score>= 90:\n",
    "    print('A+ Grade')\n",
    "elif  89>= score >= 75:\n",
    "    print('A Grade')\n",
    "elif 74>= score >= 65:\n",
    "    print('B+ Grade')\n",
    "elif 64>= score >= 60:\n",
    "    print('B Grade')\n",
    "else :\n",
    "    print('C Grade')"
   ]
  },
  {
   "cell_type": "code",
   "execution_count": 2,
   "id": "e8b187a3-2c12-4998-8b4c-c4f6d8c6e676",
   "metadata": {},
   "outputs": [
    {
     "name": "stdin",
     "output_type": "stream",
     "text": [
      "Enter angle 1:  120\n",
      "Enter angle 2:  60\n",
      "Enter angle 3:  0\n"
     ]
    },
    {
     "name": "stdout",
     "output_type": "stream",
     "text": [
      "Scalene triangle\n"
     ]
    }
   ],
   "source": [
    "angle1 = int(input(\"Enter angle 1: \"))\n",
    "angle2 = int(input(\"Enter angle 2: \"))\n",
    "angle3 = int(input(\"Enter angle 3: \"))\n",
    "\n",
    "if angle1 + angle2 + angle3 == 180:\n",
    "    if angle1 == angle2 == angle3:\n",
    "        print(\"Equilateral trinagle\")\n",
    "    elif  angle1 == angle2 or angle2 == angle3 or angle1 == angle3:\n",
    "        print(\"Isosceles triangle\")\n",
    "    else:\n",
    "        print(\"Scalene triangle\")\n",
    "else:\n",
    "    print(\"Invalid triangle angles\")"
   ]
  },
  {
   "cell_type": "code",
   "execution_count": 16,
   "id": "48e32d8c-00c6-4c6d-8039-12aea11c6db9",
   "metadata": {},
   "outputs": [
    {
     "name": "stdin",
     "output_type": "stream",
     "text": [
      "Enter the weight in Kg 46\n",
      "Enter the height in meters 1.54\n"
     ]
    },
    {
     "name": "stdout",
     "output_type": "stream",
     "text": [
      "Normal Weight\n"
     ]
    }
   ],
   "source": [
    "Weight = float(input(\"Enter the weight in Kg\"))\n",
    "Height = float(input(\"Enter the height in meters\"))\n",
    "\n",
    "BMI = Weight/(Height**2)\n",
    "if BMI < 18.5:\n",
    "    print(\"Underweight\")\n",
    "elif 18.5<= BMI <= 24.9:\n",
    "    print(\"Normal Weight\")\n",
    "elif 25 <= BMI <= 29.9:\n",
    "    print(\"Overweight\")\n",
    "else:\n",
    "    print(\"Obese\")"
   ]
  },
  {
   "cell_type": "code",
   "execution_count": 21,
   "id": "2de093b3-976d-496a-8541-29278a1f30c5",
   "metadata": {},
   "outputs": [
    {
     "name": "stdin",
     "output_type": "stream",
     "text": [
      "Enter the number:  -14\n"
     ]
    },
    {
     "name": "stdout",
     "output_type": "stream",
     "text": [
      "negative\n"
     ]
    }
   ],
   "source": [
    "num = int(input(\"Enter the number: \"))\n",
    "\n",
    "if num < 0:\n",
    "    print(\"negative\")\n",
    "elif num == 0:\n",
    "    print(\"Zero\")\n",
    "else:\n",
    "    print(\"positive\")"
   ]
  },
  {
   "cell_type": "code",
   "execution_count": 24,
   "id": "abee2f5c-bceb-4c7d-98ed-3cb6c5e559ff",
   "metadata": {},
   "outputs": [
    {
     "name": "stdin",
     "output_type": "stream",
     "text": [
      "Enter a character:  @\n"
     ]
    },
    {
     "name": "stdout",
     "output_type": "stream",
     "text": [
      "The character is specialcase\n"
     ]
    }
   ],
   "source": [
    "char = input(\"Enter a character: \")\n",
    "if char.isupper():\n",
    "    print(\"The character is uppercase\")\n",
    "\n",
    "elif char.islower():\n",
    "    print(\"The character is lowercase\")\n",
    "else:\n",
    "    print(\"The character is specialcase\")"
   ]
  },
  {
   "cell_type": "code",
   "execution_count": 13,
   "id": "043b94af-8ee2-4e5a-b85a-c74890990a7c",
   "metadata": {},
   "outputs": [
    {
     "name": "stdin",
     "output_type": "stream",
     "text": [
      "Enter the Price: 700\n"
     ]
    },
    {
     "name": "stdout",
     "output_type": "stream",
     "text": [
      "Discounted Price :  665.0\n"
     ]
    }
   ],
   "source": [
    "price = int(input(\"Enter the Price:\"))\n",
    "if price >= 1000:\n",
    "    discount_per = 10\n",
    "    print(\"Discounted Price : \",discounted_price)\n",
    "elif price >= 500:\n",
    "    discount_per = 5\n",
    "    print(\"Discounted Price : \",discounted_price)\n",
    "elif price >= 100:\n",
    "    discount_per = 2\n",
    "    print(\"Discounted Price : \",discounted_price)\n",
    "else:\n",
    "    discount_per = 0\n",
    "\n",
    "discounted_price = price - (price * discount_per/100)\n"
   ]
  },
  {
   "cell_type": "code",
   "execution_count": null,
   "id": "be5fb53a-d799-4dd8-bc9a-851ad56b9a14",
   "metadata": {},
   "outputs": [],
   "source": []
  },
  {
   "cell_type": "code",
   "execution_count": 17,
   "id": "5e28e9dc-15ea-44a7-9a60-33e7c1b067f3",
   "metadata": {},
   "outputs": [
    {
     "name": "stdin",
     "output_type": "stream",
     "text": [
      "Enter the units consumed:  500\n"
     ]
    },
    {
     "name": "stdout",
     "output_type": "stream",
     "text": [
      "Bill Amount: 1900.0\n"
     ]
    }
   ],
   "source": [
    "units_consumed = float(input(\"Enter the units consumed: \"))\n",
    "\n",
    "slab_1_limit = 100\n",
    "slab_2_limit = 200\n",
    "slab_3_limit = 300\n",
    "\n",
    "rate_slab_1 = 1.50\n",
    "rate_slab_2 = 2.00\n",
    "rate_slab_3 = 2.50\n",
    "rate_slab_4 = 3.00\n",
    "\n",
    "if units_consumed <= slab_1_limit:\n",
    "    bill_amount = units_consumed * rate_slab_1\n",
    "    print(\"Bill Amount:\",bill_amount)\n",
    "elif units_consumed <= slab_2_limit:\n",
    "    bill_amount = (slab_1_limit * rate_slab_1) + ((units_consumed - slab_1_limit) * rate_slab_2)\n",
    "elif units_consumed <= slab_3_limit:\n",
    "    bill_amount = (slab_1_limit * rate_slab_1) + (slab_2_limit * rate_slab_2) + ((units_consumed - slab_2_limit) * rate_slab_3)\n",
    "    print(\"Bill Amount:\",bill_amount)\n",
    "else:\n",
    "    bill_amount = (slab_1_limit * rate_slab_1) + (slab_2_limit * rate_slab_2) + (slab_3_limit * rate_slab_3) + ((units_consumed - slab_3_limit) * rate_slab_4)\n",
    "    print(\"Bill Amount:\",bill_amount)"
   ]
  },
  {
   "cell_type": "code",
   "execution_count": 21,
   "id": "1c2239e6-bcd5-4e17-9ef8-17866edf49f6",
   "metadata": {},
   "outputs": [
    {
     "name": "stdin",
     "output_type": "stream",
     "text": [
      "Enter the first angle:  90\n",
      "Enter the second angle:  90\n",
      "Enter the third angle:  90\n",
      "Enter the fourth angle:  90\n",
      "Enter the length of the first side:  16\n",
      "Enter the length of the second side:  12\n",
      "Enter the length of the third side:  16\n",
      "Enter the length of the fourth side:  12\n"
     ]
    },
    {
     "name": "stdout",
     "output_type": "stream",
     "text": [
      "The quadrilateral is a rectangle.\n"
     ]
    }
   ],
   "source": [
    "angle1 = float(input(\"Enter the first angle: \"))\n",
    "angle2 = float(input(\"Enter the second angle: \"))\n",
    "angle3 = float(input(\"Enter the third angle: \"))\n",
    "angle4 = float(input(\"Enter the fourth angle: \"))\n",
    "\n",
    "side1 = float(input(\"Enter the length of the first side: \"))\n",
    "side2 = float(input(\"Enter the length of the second side: \"))\n",
    "side3 = float(input(\"Enter the length of the third side: \"))\n",
    "side4 = float(input(\"Enter the length of the fourth side: \"))\n",
    "\n",
    "if angle1 + angle2 + angle3 + angle4 == 360:\n",
    "    if angle1 == angle2 == angle3 == angle4 == 90:\n",
    "        print(\"The quadrilateral is a rectangle.\")\n",
    "    elif angle1 == angle3 and angle2 == angle4:\n",
    "        if side1 == side3 and side2 == side4:\n",
    "            print(\"The quadrilateral is a square.\")\n",
    "        else:\n",
    "            print(\"The quadrilateral is a rectangle.\")\n",
    "    elif side1 == side2 == side3 == side4:\n",
    "        print(\"The quadrilateral is a rhombus.\")\n",
    "    elif side1 == side3 and side2 == side4:\n",
    "        print(\"The quadrilateral is a parallelogram.\")\n",
    "              \n",
    "    else:\n",
    "        print(\"The quadrilateral is a general convex quadrilateral.\")\n",
    "else:\n",
    "    print(\"Invalid quadrilateral angles.\")"
   ]
  },
  {
   "cell_type": "code",
   "execution_count": 28,
   "id": "a8607e58-176e-4d38-ad79-4270d51b045e",
   "metadata": {},
   "outputs": [
    {
     "name": "stdin",
     "output_type": "stream",
     "text": [
      "Enter the Month: 6\n"
     ]
    },
    {
     "name": "stdout",
     "output_type": "stream",
     "text": [
      "Summer\n"
     ]
    }
   ],
   "source": [
    "month = int(input(\"Enter the Month:\"))\n",
    "if month in [12, 1, 2]:\n",
    "    season = \"Winter\"\n",
    "    print(season)\n",
    "elif month in [3, 4, 5]:\n",
    "    season = \"Spring\"\n",
    "    print(season)\n",
    "elif month in [6, 7, 8]:\n",
    "    season = \"Summer\"\n",
    "    print(season)\n",
    "elif month in [9, 10, 11]:\n",
    "    season = \"Fall\"\n",
    "    print(season)\n",
    "else:\n",
    "    season = \"Invalid month\"\n",
    "    print(season)"
   ]
  },
  {
   "cell_type": "code",
   "execution_count": 35,
   "id": "be7e24eb-b6f2-41ed-8dd9-165502525074",
   "metadata": {},
   "outputs": [
    {
     "name": "stdin",
     "output_type": "stream",
     "text": [
      "Enter the year:  2024\n"
     ]
    },
    {
     "name": "stdout",
     "output_type": "stream",
     "text": [
      "Leap Year\n"
     ]
    },
    {
     "name": "stdin",
     "output_type": "stream",
     "text": [
      "Enter the Month:  2\n"
     ]
    },
    {
     "name": "stdout",
     "output_type": "stream",
     "text": [
      "29\n"
     ]
    }
   ],
   "source": [
    "year = int(input(\"Enter the year: \"))\n",
    "if (year % 4 == 0 and year % 100 != 0) or (year % 400 == 0):\n",
    "    print(\"Leap Year\")\n",
    "else:\n",
    "    print(\"Common Year\")\n",
    "\n",
    "month = int(input(\"Enter the Month: \"))\n",
    "if month in [1, 3, 5, 7, 8, 10, 12]:\n",
    "    print('31')\n",
    "elif month in [4, 6, 9, 11]:\n",
    "    print('30')\n",
    "elif month == 2:\n",
    "    if (year % 4 == 0 and year % 100 != 0) or (year % 400 == 0):\n",
    "        print('29')\n",
    "    else:\n",
    "        print('28')\n",
    "else:\n",
    "    print('Invalid Month')"
   ]
  },
  {
   "cell_type": "code",
   "execution_count": 3,
   "id": "00d51661-bd4c-446d-bdfc-25db39ec705a",
   "metadata": {},
   "outputs": [
    {
     "name": "stdin",
     "output_type": "stream",
     "text": [
      "enter the number : -15\n"
     ]
    },
    {
     "name": "stdout",
     "output_type": "stream",
     "text": [
      "Negative\n"
     ]
    }
   ],
   "source": [
    "Num1= int(input(\"enter the number :\"))\n",
    "if Num1 == 0:\n",
    "    print(\"Zero\")\n",
    "elif Num1 < 0:\n",
    "    print(\"Negative\")\n",
    "else:\n",
    "    print(\"Positive\")"
   ]
  },
  {
   "cell_type": "code",
   "execution_count": 9,
   "id": "2a4eb884-2dd6-462e-aa08-a92ff7a29f17",
   "metadata": {},
   "outputs": [
    {
     "name": "stdin",
     "output_type": "stream",
     "text": [
      "Enter your Age:  18\n"
     ]
    },
    {
     "name": "stdout",
     "output_type": "stream",
     "text": [
      "You are eligible for voting\n"
     ]
    }
   ],
   "source": [
    "age = int(input(\"Enter your Age: \"))\n",
    "if age <= 0:\n",
    "    print(\"Please enter valid age\")\n",
    "elif age < 18:\n",
    "    print(\"You are not eligible for voting\")\n",
    "else:\n",
    "    print(\"You are eligible for voting\")"
   ]
  },
  {
   "cell_type": "code",
   "execution_count": 14,
   "id": "5ade1cf7-dd70-4b59-b4b1-671715ec6c3d",
   "metadata": {},
   "outputs": [
    {
     "name": "stdin",
     "output_type": "stream",
     "text": [
      "Enter 1st no. 25\n",
      "Enter 2nd no. 27\n"
     ]
    },
    {
     "name": "stdout",
     "output_type": "stream",
     "text": [
      "n2 is greate than n1\n"
     ]
    }
   ],
   "source": [
    "n1 = int(input(\"Enter 1st no.\"))\n",
    "n2 = int(input(\"Enter 2nd no.\"))\n",
    "\n",
    "if n1 > n2:\n",
    "    print(\"n1 is greater than n2\")\n",
    "elif n1 == n2:\n",
    "    print(\"you entered both same numbers\")\n",
    "else:\n",
    "    print(\"n2 is greate than n1\")"
   ]
  },
  {
   "cell_type": "code",
   "execution_count": 15,
   "id": "403cc165-9972-4c3c-a026-c1287e4bce38",
   "metadata": {},
   "outputs": [
    {
     "name": "stdin",
     "output_type": "stream",
     "text": [
      "Enter the student's score:  74\n"
     ]
    },
    {
     "name": "stdout",
     "output_type": "stream",
     "text": [
      "B+ Grade\n"
     ]
    }
   ],
   "source": [
    "score = int(input(\"Enter the student's score: \"))\n",
    "\n",
    "if score>= 90:\n",
    "    print('A+ Grade')\n",
    "elif  89>= score >= 75:\n",
    "    print('A Grade')\n",
    "elif 74>= score >= 65:\n",
    "    print('B+ Grade')\n",
    "elif 64>= score >= 60:\n",
    "    print('B Grade')\n",
    "else :\n",
    "    print('C Grade')"
   ]
  },
  {
   "cell_type": "code",
   "execution_count": 17,
   "id": "3141ddf3-629a-4b6e-af07-4e22cd27bb5f",
   "metadata": {},
   "outputs": [
    {
     "name": "stdin",
     "output_type": "stream",
     "text": [
      "Enter the year:  2024\n"
     ]
    },
    {
     "name": "stdout",
     "output_type": "stream",
     "text": [
      "Leap Year\n"
     ]
    }
   ],
   "source": [
    "year = int(input(\"Enter the year: \"))\n",
    "if (year % 4 == 0 and year % 100 != 0) or (year % 400 == 0):\n",
    "    print(\"Leap Year\")\n",
    "else:\n",
    "    print(\"Common Year\")"
   ]
  },
  {
   "cell_type": "code",
   "execution_count": 18,
   "id": "7ba599af-fe96-4f47-bc9b-f0a3098cca9a",
   "metadata": {},
   "outputs": [
    {
     "name": "stdin",
     "output_type": "stream",
     "text": [
      "Enter angle 1:  60\n",
      "Enter angle 2:  40\n",
      "Enter angle 3:  120\n"
     ]
    },
    {
     "name": "stdout",
     "output_type": "stream",
     "text": [
      "Invalid triangle angles\n"
     ]
    }
   ],
   "source": [
    "angle1 = int(input(\"Enter angle 1: \"))\n",
    "angle2 = int(input(\"Enter angle 2: \"))\n",
    "angle3 = int(input(\"Enter angle 3: \"))\n",
    "\n",
    "if angle1 + angle2 + angle3 == 180:\n",
    "    if angle1 == angle2 == angle3:\n",
    "        print(\"Equilateral trinagle\")\n",
    "    elif  angle1 == angle2 or angle2 == angle3 or angle1 == angle3:\n",
    "        print(\"Isosceles triangle\")\n",
    "    else:\n",
    "        print(\"Scalene triangle\")\n",
    "else:\n",
    "    print(\"Invalid triangle angles\")"
   ]
  },
  {
   "cell_type": "code",
   "execution_count": 24,
   "id": "2b6fb9f4-0b9b-4e2b-836a-c75b83177794",
   "metadata": {},
   "outputs": [
    {
     "name": "stdin",
     "output_type": "stream",
     "text": [
      "Enter 1st no. 152\n",
      "Enter 2nd no. 168\n",
      "Enter 3rd no. 120\n"
     ]
    },
    {
     "name": "stdout",
     "output_type": "stream",
     "text": [
      "Num 2 is greater than num 1 and num3\n"
     ]
    }
   ],
   "source": [
    "num1 = int(input(\"Enter 1st no.\"))\n",
    "num2 = int(input(\"Enter 2nd no.\"))\n",
    "num3 = int(input(\"Enter 3rd no.\"))\n",
    "\n",
    "if num1 > num2 and num1 > num3:\n",
    "    print(\"num1 is greater than num2 and num3\")\n",
    "elif num2 > num3 and num2 > num1:\n",
    "    print(\"Num 2 is greater than num 1 and num3\")\n",
    "else:\n",
    "    print(\"num3 is greate than num2 and num1\")"
   ]
  },
  {
   "cell_type": "code",
   "execution_count": 39,
   "id": "a2f84849-f42b-4661-9b33-affa827ade36",
   "metadata": {},
   "outputs": [
    {
     "name": "stdin",
     "output_type": "stream",
     "text": [
      "Enter a character:  A\n"
     ]
    },
    {
     "name": "stdout",
     "output_type": "stream",
     "text": [
      "Entered character is vowel\n"
     ]
    }
   ],
   "source": [
    "char = str(input(\"Enter a character: \"))\n",
    "vowel = \"aeiouAEIOU\"\n",
    "if len(char) == 1 and char.isalpha():\n",
    "    if char in vowel :\n",
    "        print(\"Entered character is vowel\")\n",
    "    else:\n",
    "        print(\"Entered character is consonant\")\n",
    "else:\n",
    "    print(\"Please enter valid single alphabatic character.\")"
   ]
  },
  {
   "cell_type": "code",
   "execution_count": 44,
   "id": "657d071f-8983-4295-ab24-156292d7cb92",
   "metadata": {},
   "outputs": [
    {
     "name": "stdin",
     "output_type": "stream",
     "text": [
      "Enter your shoping amount: 1000\n",
      "Enter discount percentage 12\n"
     ]
    },
    {
     "name": "stdout",
     "output_type": "stream",
     "text": [
      "The total cost of your shopping cart after a 12.0% discount is: Rs.880.0\n"
     ]
    }
   ],
   "source": [
    "Total_shoping = float(input(\"Enter your shoping amount:\"))\n",
    "Discount_percentange = float(input(\"Enter discount percentage\"))\n",
    "\n",
    "Discounted_amount = (Total_shoping - (Total_shoping*Discount_percentange)/100)\n",
    "\n",
    "print(f\"The total cost of your shopping cart after a {Discount_percentange}% discount is: Rs.{Discounted_amount}\")"
   ]
  },
  {
   "cell_type": "code",
   "execution_count": 63,
   "id": "b51471c8-df65-48bd-a93e-f742759c0643",
   "metadata": {},
   "outputs": [
    {
     "name": "stdin",
     "output_type": "stream",
     "text": [
      "Enter the Number:  121\n"
     ]
    },
    {
     "name": "stdout",
     "output_type": "stream",
     "text": [
      "odd\n"
     ]
    }
   ],
   "source": [
    "num = int(input(\"Enter the Number: \"))\n",
    "if num%2==0:\n",
    "    print(\"Even\")\n",
    "elif num%2 != 0:\n",
    "    print(\"odd\")\n",
    "else:\n",
    "    print(\"Please enter valid input\")"
   ]
  },
  {
   "cell_type": "code",
   "execution_count": 66,
   "id": "2dbdec10-675d-4e52-b907-3f087f8270a3",
   "metadata": {},
   "outputs": [
    {
     "name": "stdin",
     "output_type": "stream",
     "text": [
      "Enter the coefficient a:  4\n",
      "Enter the coefficient b:  2\n",
      "Enter the coefficient c:  2\n"
     ]
    },
    {
     "name": "stdout",
     "output_type": "stream",
     "text": [
      "The roots of the quadratic equation are complex: -0.25 + 0.6614378277661477i and -0.25 - 0.6614378277661477i\n"
     ]
    }
   ],
   "source": [
    "import math\n",
    "a = float(input(\"Enter the coefficient a: \"))\n",
    "b = float(input(\"Enter the coefficient b: \"))\n",
    "c = float(input(\"Enter the coefficient c: \"))\n",
    "discriminant = b**2 - 4*a*c\n",
    "if discriminant >= 0:\n",
    "    root1 = (-b + math.sqrt(discriminant)) / (2*a)\n",
    "    root2 = (-b - math.sqrt(discriminant)) / (2*a)\n",
    "    print(f\"The roots of the quadratic equation are: {root1} and {root2}\")\n",
    "else:\n",
    "    real_part = -b / (2*a)\n",
    "    imaginary_part = math.sqrt(abs(discriminant)) / (2*a)\n",
    "    root1 = f\"{real_part} + {imaginary_part}i\"\n",
    "    root2 = f\"{real_part} - {imaginary_part}i\"\n",
    "    print(f\"The roots of the quadratic equation are complex: {root1} and {root2}\")"
   ]
  },
  {
   "cell_type": "code",
   "execution_count": 69,
   "id": "89335243-d1ba-4d6f-bb3f-ec7083aa936c",
   "metadata": {},
   "outputs": [
    {
     "name": "stdin",
     "output_type": "stream",
     "text": [
      "Enter a day number (1-7):  2\n"
     ]
    },
    {
     "name": "stdout",
     "output_type": "stream",
     "text": [
      "The day corresponding to day number 2 is: Tuesday\n"
     ]
    }
   ],
   "source": [
    "day_number = int(input(\"Enter a day number (1-7): \"))\n",
    "if 1 <= day_number <= 7:\n",
    "    days_of_week = [\"Monday\", \"Tuesday\", \"Wednesday\", \"Thursday\", \"Friday\", \"Saturday\", \"Sunday\"]\n",
    "    day_of_week = days_of_week[day_number - 1]\n",
    "    print(f\"The day corresponding to day number {day_number} is: {day_of_week}\")\n",
    "else:\n",
    "    print(\"Invalid day number. Please enter a number between 1 and 7.\")"
   ]
  },
  {
   "cell_type": "code",
   "execution_count": 84,
   "id": "da5acf07-a2f1-4e2d-b39c-adfdb4150b87",
   "metadata": {},
   "outputs": [
    {
     "name": "stdin",
     "output_type": "stream",
     "text": [
      "Enter number:  3\n"
     ]
    },
    {
     "name": "stdout",
     "output_type": "stream",
     "text": [
      "6\n"
     ]
    }
   ],
   "source": [
    "n = int(input(\"Enter number: \"))\n",
    "a = 1\n",
    "for i in range(1,n+1):\n",
    "    a=i*a\n",
    "print(a)"
   ]
  },
  {
   "cell_type": "code",
   "execution_count": 85,
   "id": "a9d88580-8a5f-41a8-8e85-67046de0bc2d",
   "metadata": {},
   "outputs": [
    {
     "name": "stdin",
     "output_type": "stream",
     "text": [
      "Enter the first number:  125\n",
      "Enter the second number:  120\n",
      "Enter the third number:  123\n"
     ]
    },
    {
     "name": "stdout",
     "output_type": "stream",
     "text": [
      "The largest of 125.0, 120.0, and 123.0 is: 125.0\n"
     ]
    }
   ],
   "source": [
    "num1 = float(input(\"Enter the first number: \"))\n",
    "num2 = float(input(\"Enter the second number: \"))\n",
    "num3 = float(input(\"Enter the third number: \"))\n",
    "largest = num1\n",
    "if num2 > largest:\n",
    "    largest = num2\n",
    "if num3 > largest:\n",
    "    largest = num3\n",
    "print(f\"The largest of {num1}, {num2}, and {num3} is: {largest}\")"
   ]
  },
  {
   "cell_type": "code",
   "execution_count": 88,
   "id": "dc0b5738-6624-4331-bf50-173ff71c0eb2",
   "metadata": {},
   "outputs": [
    {
     "name": "stdout",
     "output_type": "stream",
     "text": [
      "ATM menu\n",
      "1. Check balance\n",
      "2. Withdraw money\n",
      "3. Deposit money\n",
      "4. Quit\n"
     ]
    },
    {
     "name": "stdin",
     "output_type": "stream",
     "text": [
      "Enter your choice(1-4): 1\n"
     ]
    },
    {
     "name": "stdout",
     "output_type": "stream",
     "text": [
      "your balnce is 10000\n",
      "ATM menu\n",
      "1. Check balance\n",
      "2. Withdraw money\n",
      "3. Deposit money\n",
      "4. Quit\n"
     ]
    },
    {
     "name": "stdin",
     "output_type": "stream",
     "text": [
      "Enter your choice(1-4): 2\n",
      "Enter the amount to withdraw: 120\n"
     ]
    },
    {
     "name": "stdout",
     "output_type": "stream",
     "text": [
      "Withdrawal Successfull, Available balance is :9880\n",
      "ATM menu\n",
      "1. Check balance\n",
      "2. Withdraw money\n",
      "3. Deposit money\n",
      "4. Quit\n"
     ]
    },
    {
     "name": "stdin",
     "output_type": "stream",
     "text": [
      "Enter your choice(1-4): 2\n",
      "Enter the amount to withdraw: 1200\n"
     ]
    },
    {
     "name": "stdout",
     "output_type": "stream",
     "text": [
      "Withdrawal Successfull, Available balance is :8680\n",
      "ATM menu\n",
      "1. Check balance\n",
      "2. Withdraw money\n",
      "3. Deposit money\n",
      "4. Quit\n"
     ]
    },
    {
     "name": "stdin",
     "output_type": "stream",
     "text": [
      "Enter your choice(1-4): 3\n",
      "Enter the amount to deposit 1320\n"
     ]
    },
    {
     "name": "stdout",
     "output_type": "stream",
     "text": [
      "Your available Balance is : 10000\n",
      "ATM menu\n",
      "1. Check balance\n",
      "2. Withdraw money\n",
      "3. Deposit money\n",
      "4. Quit\n"
     ]
    },
    {
     "name": "stdin",
     "output_type": "stream",
     "text": [
      "Enter your choice(1-4): 4\n"
     ]
    },
    {
     "name": "stdout",
     "output_type": "stream",
     "text": [
      "Thank you for using ATM.\n"
     ]
    }
   ],
   "source": [
    "Balance = 10000\n",
    "while True:\n",
    "    print(\"ATM menu\")\n",
    "    print(\"1. Check balance\")\n",
    "    print(\"2. Withdraw money\")\n",
    "    print(\"3. Deposit money\")\n",
    "    print(\"4. Quit\")\n",
    "\n",
    "    choice = input(\"Enter your choice(1-4):\")\n",
    "    if choice == '1':\n",
    "        print(f\"your balnce is {Balance}\")\n",
    "    elif choice == '2':\n",
    "        withdraw_amount = int(input(\"Enter the amount to withdraw:\"))\n",
    "        if withdraw_amount<= Balance:\n",
    "            Balance -= withdraw_amount\n",
    "            print(f\"Withdrawal Successfull, Available balance is :{Balance}\")\n",
    "        else:\n",
    "            print(\"Insufficient Balance\")\n",
    "    elif choice == '3':\n",
    "        deposit_amount = int(input(\"Enter the amount to deposit\"))\n",
    "        Balance += deposit_amount\n",
    "        print(f\"Your available Balance is : {Balance}\")\n",
    "    elif choice == '4' :\n",
    "        print(\"Thank you for using ATM.\")\n",
    "        break\n",
    "    else:\n",
    "        print(\"Invalid choice. Please enter valid input\")"
   ]
  },
  {
   "cell_type": "code",
   "execution_count": 4,
   "id": "d10f4633-df42-4b89-ba45-2d26490dd9f4",
   "metadata": {},
   "outputs": [
    {
     "name": "stdin",
     "output_type": "stream",
     "text": [
      "Enter the string: level\n"
     ]
    },
    {
     "name": "stdout",
     "output_type": "stream",
     "text": [
      "String is Palindrom\n"
     ]
    }
   ],
   "source": [
    "s1 = str(input(\"Enter the string:\")) \n",
    "if s1 == s1[::-1]:\n",
    "    print(\"String is Palindrom\")\n",
    "else:\n",
    "    print(\"string is not Palindrom\")"
   ]
  },
  {
   "cell_type": "code",
   "execution_count": 11,
   "id": "d3d2f87f-5bba-4e25-b44e-19c8741a1039",
   "metadata": {},
   "outputs": [
    {
     "name": "stdout",
     "output_type": "stream",
     "text": [
      "average of l1 is 5.0\n"
     ]
    }
   ],
   "source": [
    "l1 = [1,2,3,4,5,6,7,8,9]\n",
    "l1.remove(min(l1))\n",
    "l1.remove(max(l1))\n",
    "average = sum(l1)/len(l1)\n",
    "print(f\"after excluding the minimum and maximum of the l1 average of l1 is {average}\")"
   ]
  },
  {
   "cell_type": "code",
   "execution_count": 16,
   "id": "a4e1c6e1-9fac-47f4-a0ec-f5abfd7df331",
   "metadata": {},
   "outputs": [
    {
     "name": "stdin",
     "output_type": "stream",
     "text": [
      "Enter the tempurature: 37\n"
     ]
    },
    {
     "name": "stdout",
     "output_type": "stream",
     "text": [
      "the tempurature celsius to farrenheit is 98.60000000000001\n"
     ]
    }
   ],
   "source": [
    "celsius = float(input(\"Enter the tempurature:\"))\n",
    "fahrenheit = 9/5*celsius + 32\n",
    "print(f\"the tempurature celsius to farrenheit is {fahrenheit}\")"
   ]
  },
  {
   "cell_type": "code",
   "execution_count": 23,
   "id": "ef91b926-f954-4053-be06-1e210e179a9b",
   "metadata": {},
   "outputs": [
    {
     "name": "stdin",
     "output_type": "stream",
     "text": [
      "Enter the 1st digit:  125\n",
      "Enter the operator +\n",
      "Enter the 2nd digit:  5\n"
     ]
    },
    {
     "name": "stdout",
     "output_type": "stream",
     "text": [
      "130.0\n"
     ]
    }
   ],
   "source": [
    "digit1 = float(input(\"Enter the 1st digit: \"))\n",
    "oprators = input(\"Enter the operator\")\n",
    "digit2 = float(input(\"Enter the 2nd digit: \"))\n",
    "if oprators == '+':\n",
    "    print (digit1 + digit2)\n",
    "elif oprators == '-':\n",
    "    print (digit1 - digit2)\n",
    "elif oprators == '*':\n",
    "    print (digit1 * digit2)\n",
    "elif oprators == '/':\n",
    "    print (digit1/digit2)\n",
    "else:\n",
    "    print (\"Invalid operation\")"
   ]
  },
  {
   "cell_type": "code",
   "execution_count": 24,
   "id": "c4c7bdd8-ed0a-46f0-8aac-34bae90fea8f",
   "metadata": {},
   "outputs": [
    {
     "name": "stdin",
     "output_type": "stream",
     "text": [
      "Enter coefficient a:  21\n",
      "Enter coefficient b:  12\n",
      "Enter coefficient c:  3\n",
      "Enter coefficient d:  4\n"
     ]
    },
    {
     "name": "stdout",
     "output_type": "stream",
     "text": [
      "The roots of the cubic equation are: [(0.5937117824588873-0.5076897450755183j), (-1.0475587192923579-0.42688978055506355j), (-0.11758163459510128+0.9345795256305819j)]\n"
     ]
    }
   ],
   "source": [
    "import cmath  # Import the complex math module\n",
    "\n",
    "def cubic_roots(a, b, c, d):\n",
    "    # Calculate the discriminant and its cube root\n",
    "    delta = 18 * a * b * c * d - 4 * b**3 * d + b**2 * c**2 - 4 * a * c**3 - 27 * a**2 * d**2\n",
    "    delta_cubed_root = cmath.exp(cmath.log(delta) / 3)\n",
    "\n",
    "    # Calculate the constants for the Cardano formula\n",
    "    C = (delta_cubed_root - b * c + 9 * a * d) / (2 * cmath.sqrt(delta))\n",
    "    u = cmath.exp(2j * cmath.pi / 3)\n",
    "    roots = []\n",
    "\n",
    "    # Calculate the roots using Cardano formula\n",
    "    for k in range(3):\n",
    "        root = -1 / (3 * a) * (b + u**k * C + delta_cubed_root / (u**k * C))\n",
    "        roots.append(root)\n",
    "\n",
    "    return roots\n",
    "\n",
    "# Get coefficients from the user\n",
    "a = float(input(\"Enter coefficient a: \"))\n",
    "b = float(input(\"Enter coefficient b: \"))\n",
    "c = float(input(\"Enter coefficient c: \"))\n",
    "d = float(input(\"Enter coefficient d: \"))\n",
    "\n",
    "# Calculate and print the roots\n",
    "roots = cubic_roots(a, b, c, d)\n",
    "print(\"The roots of the cubic equation are:\", roots)"
   ]
  },
  {
   "cell_type": "code",
   "execution_count": 31,
   "id": "5777b822-da99-4912-832d-68411cc08efb",
   "metadata": {},
   "outputs": [
    {
     "name": "stdin",
     "output_type": "stream",
     "text": [
      "Enter your income: $ 100000\n"
     ]
    },
    {
     "name": "stdout",
     "output_type": "stream",
     "text": [
      "Your income tax is: $17000.00\n"
     ]
    }
   ],
   "source": [
    "def calculate_income_tax(income):\n",
    "    # Define tax brackets and rates\n",
    "    brackets = [0, 10000, 40000, 80000, float('inf')]\n",
    "    rates = [0.0, 0.1, 0.2, 0.3]\n",
    "\n",
    "    # Calculate tax based on income and tax brackets\n",
    "    tax = 0.0\n",
    "    remaining_income = income\n",
    "\n",
    "    for i in range(1, len(brackets)):\n",
    "        bracket_start = brackets[i - 1]\n",
    "        bracket_end = brackets[i]\n",
    "\n",
    "        if remaining_income > 0:\n",
    "            taxable_amount = min(remaining_income, bracket_end - bracket_start)\n",
    "            tax += taxable_amount * rates[i - 1]\n",
    "            remaining_income -= taxable_amount\n",
    "        else:\n",
    "            break\n",
    "\n",
    "    return tax\n",
    "\n",
    "# Get user input for income\n",
    "try:\n",
    "    income = float(input(\"Enter your income: $\"))\n",
    "    \n",
    "    if income < 0:\n",
    "        raise ValueError(\"Income should be a non-negative value.\")\n",
    "\n",
    "    # Calculate and print income tax\n",
    "    tax = calculate_income_tax(income)\n",
    "    print(f\"Your income tax is: ${tax:.2f}\")\n",
    "\n",
    "except ValueError as e:\n",
    "    print(f\"Error: {e}\")\n"
   ]
  },
  {
   "cell_type": "markdown",
   "id": "ec26e1a4-dfdd-4875-b5fb-79f95850796e",
   "metadata": {},
   "source": [
    "### Advanced Level"
   ]
  },
  {
   "cell_type": "code",
   "execution_count": 48,
   "id": "c4324e20-01c4-4732-8ec0-a0649a74aaac",
   "metadata": {},
   "outputs": [
    {
     "name": "stdin",
     "output_type": "stream",
     "text": [
      "Enter your income: $ 80000\n"
     ]
    },
    {
     "name": "stdout",
     "output_type": "stream",
     "text": [
      "your income tax is 11000.00\n"
     ]
    }
   ],
   "source": [
    "brackets = [0, 10000, 40000, 80000, float('inf')]\n",
    "rates = [0.0, 0.1, 0.2, 0.3]\n",
    "income = float(input(\"Enter your income: $\"))\n",
    "tax = 0.0\n",
    "remaining_income = income\n",
    "for i in range(1, len(brackets)):\n",
    "    bracket_start = brackets[i - 1]\n",
    "    bracket_end = brackets[i]\n",
    "    if remaining_income > 0:\n",
    "        taxable_amount = min(remaining_income, bracket_end - bracket_start)\n",
    "        tax += taxable_amount * rates[i - 1]\n",
    "        remaining_income -= taxable_amount\n",
    "    else:\n",
    "        break\n",
    "print(f\"your income tax is {tax:.2f}\")"
   ]
  },
  {
   "cell_type": "code",
   "execution_count": null,
   "id": "e0050e71-dd36-402b-82be-386278febe2b",
   "metadata": {},
   "outputs": [],
   "source": [
    "import random\n",
    "\n",
    "def get_user_choice():\n",
    "    while True:\n",
    "        user_choice = input(\"Enter your choice (rock, paper, scissors): \").lower()\n",
    "        if user_choice in ['rock', 'paper', 'scissors']:\n",
    "            return user_choice\n",
    "        else:\n",
    "            print(\"Invalid choice. Please enter 'rock', 'paper', or 'scissors'.\")\n",
    "\n",
    "def get_computer_choice():\n",
    "    return random.choice(['rock', 'paper', 'scissors'])\n",
    "\n",
    "def determine_winner(user_choice, computer_choice):\n",
    "    if user_choice == computer_choice:\n",
    "        return \"It's a tie!\"\n",
    "    elif (user_choice == 'rock' and computer_choice == 'scissors') or \\\n",
    "         (user_choice == 'paper' and computer_choice == 'rock') or \\\n",
    "         (user_choice == 'scissors' and computer_choice == 'paper'):\n",
    "        return \"You win!\"\n",
    "    else:\n",
    "        return \"Computer wins!\"\n",
    "\n",
    "# Main game loop\n",
    "while True:\n",
    "    # Get user and computer choices\n",
    "    user_choice = get_user_choice()\n",
    "    computer_choice = get_computer_choice()\n",
    "\n",
    "    # Display choices\n",
    "    print(f\"You chose: {user_choice}\")\n",
    "    print(f\"Computer chose: {computer_choice}\")\n",
    "\n",
    "    # Determine and print the winner\n",
    "    result = determine_winner(user_choice, computer_choice)\n",
    "    print(result)\n",
    "\n",
    "    # Ask if the user wants to play again\n",
    "    play_again = input(\"Do you want to play again? (yes/no): \").lower()\n",
    "    if play_again != 'yes':\n",
    "        print(\"Thanks for playing! Goodbye.\")\n",
    "        break\n"
   ]
  },
  {
   "cell_type": "code",
   "execution_count": 90,
   "id": "f1c2b126-4ef2-45fb-b780-22508ff9f7ee",
   "metadata": {},
   "outputs": [
    {
     "name": "stdin",
     "output_type": "stream",
     "text": [
      "Enter your choice (rock, paper, scissors):  rock\n"
     ]
    },
    {
     "name": "stdout",
     "output_type": "stream",
     "text": [
      "You chose: rock\n",
      "Computer chose: rock\n",
      "It's a tie!\n"
     ]
    },
    {
     "name": "stdin",
     "output_type": "stream",
     "text": [
      "Do you want to play again? (yes/no):  yes\n",
      "Enter your choice (rock, paper, scissors):  rock\n"
     ]
    },
    {
     "name": "stdout",
     "output_type": "stream",
     "text": [
      "You chose: rock\n",
      "Computer chose: scissors\n",
      "You win!\n"
     ]
    },
    {
     "name": "stdin",
     "output_type": "stream",
     "text": [
      "Do you want to play again? (yes/no):  no\n"
     ]
    },
    {
     "name": "stdout",
     "output_type": "stream",
     "text": [
      "Thanks for playing! Goodbye.\n"
     ]
    }
   ],
   "source": [
    "import random\n",
    "while True:\n",
    "    user_choice = input(\"Enter your choice (rock, paper, scissors): \").lower()\n",
    "    computer_choice = random.choice(['rock', 'paper', 'scissors'])\n",
    "    if user_choice in ['rock', 'paper', 'scissors']:\n",
    "        print(f\"You chose: {user_choice}\")\n",
    "        print(f\"Computer chose: {computer_choice}\")\n",
    "    else:\n",
    "        print(\"Invalid choice. Please enter 'rock', 'paper', or 'scissors'.\")\n",
    "    if user_choice == computer_choice:\n",
    "        print(\"It's a tie!\")\n",
    "    elif (user_choice == 'rock' and computer_choice == 'scissors') or \\\n",
    "         (user_choice == 'paper' and computer_choice == 'rock') or \\\n",
    "         (user_choice == 'scissors' and computer_choice == 'paper'):\n",
    "        print(\"You win!\")\n",
    "    else:\n",
    "        print(\"Computer wins!\")\n",
    "    play_again = input(\"Do you want to play again? (yes/no): \").lower()\n",
    "    if play_again != 'yes':\n",
    "        print(\"Thanks for playing! Goodbye.\")\n",
    "        break"
   ]
  },
  {
   "cell_type": "code",
   "execution_count": 12,
   "id": "7b6c8d91-daf3-460d-9c86-c46a70288aea",
   "metadata": {},
   "outputs": [
    {
     "name": "stdin",
     "output_type": "stream",
     "text": [
      "Enter the desired length of password: 7\n",
      "Include the uppercase n\n",
      "Incluce lowercase y\n",
      "Include the degits y\n",
      "Include the special character y\n"
     ]
    },
    {
     "name": "stdout",
     "output_type": "stream",
     "text": [
      "Your generated password is j|=p.h>\n"
     ]
    }
   ],
   "source": [
    "import random\n",
    "import string\n",
    "length = int(input(\"Enter the desired length of password:\"))\n",
    "uppercase = input(\"Include the uppercase(y/n)\").lower() == 'y'\n",
    "lowercase = input(\"Incluce lowercase(y/n)\").lower() == 'y'\n",
    "digits = input(\"Include the degits(y/n)\").lower() == 'y'\n",
    "special_char = input(\"Include the special character(y/n)\").lower() == 'y'\n",
    "\n",
    "characters = ''\n",
    "\n",
    "if uppercase:\n",
    "    characters += string.ascii_uppercase\n",
    "if lowercase:\n",
    "    characters += string.ascii_lowercase\n",
    "if digits:\n",
    "    characters += string.digits\n",
    "if special_char:\n",
    "    characters += string.punctuation\n",
    "\n",
    "if not characters:\n",
    "    print(\"Error: Please select at least one character type\")\n",
    "\n",
    "else:\n",
    "    password = ''.join(random.choice(characters)for _ in range(length))\n",
    "    print(f\"Your generated password is {password}\")"
   ]
  },
  {
   "cell_type": "code",
   "execution_count": 19,
   "id": "09a2c0ac-9dba-40a9-82be-75424c3ef6e9",
   "metadata": {},
   "outputs": [
    {
     "name": "stdout",
     "output_type": "stream",
     "text": [
      "Welcome to the text Adventure Game!\n",
      "You find yourself at the entrance of a mysterious cave.\n",
      "Your goal is to explore the cave and find the hidden treature.\n",
      "Let the adventure begin !\n",
      "You enter the dark cave and see two tunnels ahead\n",
      "choose your option:\n",
      "1.Take the left tunnel\n",
      "2.Take the right tunnel\n"
     ]
    },
    {
     "name": "stdin",
     "output_type": "stream",
     "text": [
      "Enter the number of your choice: 1\n"
     ]
    },
    {
     "name": "stdout",
     "output_type": "stream",
     "text": [
      "you choose the left tunnel.\n",
      "As you walk, you find a chest with a key inside.\n",
      "you take the key and continue.\n",
      "The tunnel to a vast chember.\n",
      "Congratulations! You found the treasure !\n"
     ]
    }
   ],
   "source": [
    "import time\n",
    "print(\"Welcome to the text Adventure Game!\")\n",
    "time.sleep(1)\n",
    "print(\"You find yourself at the entrance of a mysterious cave.\")\n",
    "time.sleep(1)\n",
    "print(\"Your goal is to explore the cave and find the hidden treature.\")\n",
    "time.sleep(1)\n",
    "print(\"Let the adventure begin !\")\n",
    "time.sleep(1)\n",
    "print(\"You enter the dark cave and see two tunnels ahead\")\n",
    "time.sleep(1)\n",
    "\n",
    "print(\"choose your option:\")\n",
    "print(\"1.Take the left tunnel\")\n",
    "print(\"2.Take the right tunnel\")\n",
    "\n",
    "while True:\n",
    "    try:\n",
    "        choice = int(input(\"Enter the number of your choice:\"))\n",
    "        if choice == 1:\n",
    "            print(\"you choose the left tunnel.\")\n",
    "            time.sleep(1)\n",
    "            print(\"As you walk, you find a chest with a key inside.\")\n",
    "            time.sleep(1)\n",
    "            print(\"you take the key and continue.\")\n",
    "            time.sleep(1)\n",
    "            print(\"The tunnel to a vast chember.\")\n",
    "            time.sleep(1)\n",
    "            print(\"Congratulations! You found the treasure !\")\n",
    "            break\n",
    "        elif choice == 2:\n",
    "            print(\"You choose the right tunnel.\")\n",
    "            time.sleep(1)\n",
    "            print(\"The tunnel become nerrow, and get stuck.\")\n",
    "            time.sleep(1)\n",
    "            print(\"After struggling for a while, you decide to go back.\")\n",
    "            time.sleep(1)\n",
    "            print(\"Try another path\")\n",
    "            break\n",
    "        else:\n",
    "            print(\"Invalid choice.Please enter 1 or 2\")\n",
    "    except ValueError:\n",
    "        print(\"Invalid input.Please enter a number\")"
   ]
  },
  {
   "cell_type": "code",
   "execution_count": 20,
   "id": "1ebc14ae-2468-4ea3-bd1d-64d4ae2ea8ab",
   "metadata": {},
   "outputs": [
    {
     "name": "stdout",
     "output_type": "stream",
     "text": [
      "The linear equation Solve ax+b=0\n"
     ]
    },
    {
     "name": "stdin",
     "output_type": "stream",
     "text": [
      "Enter coefficient of x: 15\n",
      "Enter coefficient of y 12\n"
     ]
    },
    {
     "name": "stdout",
     "output_type": "stream",
     "text": [
      "The solution is x = -0.8\n"
     ]
    }
   ],
   "source": [
    "print(\"The linear equation Solve ax+b=0\")\n",
    "a = float(input(\"Enter coefficient of x:\"))\n",
    "b = float(input(\"Enter constant term\"))\n",
    "\n",
    "if a == 0:\n",
    "    if b == 0:\n",
    "        print(\"Infinite solutions(Identity)\")\n",
    "    else:\n",
    "        print(\"No solutions(Contradiction)\")\n",
    "else:\n",
    "    x = -b/a\n",
    "    print(f\"The solution is x = {x}\")"
   ]
  },
  {
   "cell_type": "code",
   "execution_count": 3,
   "id": "8dfef15c-0802-412d-af87-48161c7d1a91",
   "metadata": {},
   "outputs": [
    {
     "name": "stdout",
     "output_type": "stream",
     "text": [
      "What is capital of India?\n",
      "A. Mumbai\n",
      "B. Delhi\n",
      "C. chennai\n",
      "D. Kolkata\n"
     ]
    },
    {
     "name": "stdin",
     "output_type": "stream",
     "text": [
      "Enter your ans b\n"
     ]
    },
    {
     "name": "stdout",
     "output_type": "stream",
     "text": [
      "correct\n",
      "Where is tajmahal?\n",
      "A. Mathura\n",
      "B.Surat\n",
      "C. Pune\n",
      "D. Agra\n"
     ]
    },
    {
     "name": "stdin",
     "output_type": "stream",
     "text": [
      "Enter your ans c\n"
     ]
    },
    {
     "name": "stdout",
     "output_type": "stream",
     "text": [
      "Wrong ans!! the correct ans is D\n",
      "who is captain of Indian cricket team?\n",
      "A. MS Dhoni\n",
      "B.Virat Kohli\n",
      "C.Rohit Sharma\n",
      "D. KL Rahul\n"
     ]
    },
    {
     "name": "stdin",
     "output_type": "stream",
     "text": [
      "Enter your ans c\n"
     ]
    },
    {
     "name": "stdout",
     "output_type": "stream",
     "text": [
      "correct\n",
      "Your final score is 2 out of 3\n"
     ]
    }
   ],
   "source": [
    "questions = [\n",
    "    \"What is capital of India?\",\n",
    "    \"Where is tajmahal?\",\n",
    "    \"who is captain of Indian cricket team?\",\n",
    "]\n",
    "options = [\n",
    "    [\"A. Mumbai\",\"B. Delhi\",\"C. chennai\",\"D. Kolkata\"],\n",
    "    [\"A. Mathura\",\"B.Surat\",\"C. Pune\",\"D. Agra\"],\n",
    "    [\"A. MS Dhoni\",\"B.Virat Kohli\",\"C.Rohit Sharma\",\"D. KL Rahul\"]\n",
    "]\n",
    "\n",
    "ans = [\n",
    "    \"B\",\"D\",\"C\"\n",
    "]\n",
    "Score = 0\n",
    "for i in range(len(questions)):\n",
    "    print(questions[i])\n",
    "    for option in options[i]:\n",
    "        print(option)\n",
    "    user_ans= input(\"Enter your ans\").upper()\n",
    "    if user_ans == ans[i]:\n",
    "        print(\"correct\")\n",
    "        Score +=1\n",
    "    else:\n",
    "        print(f\"Wrong ans!! the correct ans is {ans[i]}\")\n",
    "\n",
    "print(\"Your final score is\",(Score),\"out of\", len(questions))"
   ]
  },
  {
   "cell_type": "code",
   "execution_count": 13,
   "id": "d303995d-787e-4d1f-b15b-b1ba759d2a41",
   "metadata": {},
   "outputs": [
    {
     "name": "stdin",
     "output_type": "stream",
     "text": [
      "Enter the year: 1999\n"
     ]
    },
    {
     "name": "stdout",
     "output_type": "stream",
     "text": [
      "1999 is a prime number\n"
     ]
    }
   ],
   "source": [
    "year = int(input(\"Enter the year:\"))\n",
    "if year > 1:\n",
    "    for i in range(2,int(year**0.5)+1):\n",
    "        if (year%i) == 0:\n",
    "            print(year,\"is not prime number\")\n",
    "            break\n",
    "    else:\n",
    "        print(year,\"is a prime number\")\n",
    "else:\n",
    "    print(year,\"is not prime number\")"
   ]
  },
  {
   "cell_type": "code",
   "execution_count": 15,
   "id": "380227ef-1a1f-491e-aab4-88881e7b3477",
   "metadata": {},
   "outputs": [
    {
     "name": "stdin",
     "output_type": "stream",
     "text": [
      "Enter the num1 25\n",
      "Enter the num2 2369\n",
      "Enter the num3 124557855\n"
     ]
    },
    {
     "name": "stdout",
     "output_type": "stream",
     "text": [
      "Sorted in ascending order [25, 2369, 124557855]\n"
     ]
    }
   ],
   "source": [
    "num1 = int(input(\"Enter the num1\"))\n",
    "num2 = int(input(\"Enter the num2\"))\n",
    "num3 = int(input(\"Enter the num3\"))\n",
    "\n",
    "if num1 > num2 and num2 >num3 :\n",
    "    sorted_num = [num3,num2,num1]\n",
    "elif num1>num3 and num3>num2:\n",
    "    sorted_num = [num2,num3,num1]\n",
    "elif num2> num1 and num1>num3 :\n",
    "    sorted_num = [num3,num1,num2]\n",
    "elif num2>num3 and num3>num1:\n",
    "    sorted_num = [num1,num3,num2]\n",
    "elif num3 > num2 and num2>num1:\n",
    "    sorted_num = [num1,num2,num3]\n",
    "else:\n",
    "    sorted_num = [num2,num2,num3]\n",
    "\n",
    "print(\"Sorted in ascending order\", sorted_num)"
   ]
  },
  {
   "cell_type": "code",
   "execution_count": 33,
   "id": "e23c18be-b8e0-4149-89e4-f69ac67f4931",
   "metadata": {},
   "outputs": [
    {
     "name": "stdin",
     "output_type": "stream",
     "text": [
      "Enter the coefficient of a 12\n",
      "Enter the coefficient of b 45\n",
      "Enter the coefficient of c 6\n",
      "Enter the coefficient of d 25\n",
      "Enter the coefficient of e 31\n"
     ]
    },
    {
     "name": "stdout",
     "output_type": "stream",
     "text": [
      "Roots of the quartic equation: [-0.7560746662652191, 236.24367390182655, 99.48684779430677, -6564.786566705301]\n"
     ]
    }
   ],
   "source": [
    "a = float(input(\"Enter the coefficient of a\"))\n",
    "b = float(input(\"Enter the coefficient of b\"))\n",
    "c = float(input(\"Enter the coefficient of c\"))\n",
    "d = float(input(\"Enter the coefficient of d\"))\n",
    "e = float(input(\"Enter the coefficient of e\"))\n",
    "initial_guess = 0.0\n",
    "tolerance = 1e-6\n",
    "max_iterations = 100\n",
    "roots = []\n",
    "for _ in range(4):\n",
    "    x = initial_guess\n",
    "    iteration = 0\n",
    "    while True:\n",
    "        equation_value = a * x**4 + b * x**3 + c * x**2 + d * x + e\n",
    "        derivative_value = 4 * a * x**3 + 3 * b * x**2 + 2 * c * x + d\n",
    "\n",
    "        x = x - equation_value / derivative_value\n",
    "        iteration += 1\n",
    "        if abs(equation_value) <= tolerance or iteration >= max_iterations:\n",
    "            break\n",
    "    roots.append(x)\n",
    "    e += 1e6\n",
    "print(\"Roots of the quartic equation:\",roots)"
   ]
  },
  {
   "cell_type": "code",
   "execution_count": 34,
   "id": "df0ae0b7-3b86-48be-a3b3-0cba12f5df75",
   "metadata": {},
   "outputs": [
    {
     "name": "stdin",
     "output_type": "stream",
     "text": [
      "Enter your weight in kg 48\n",
      "Enter your height in meter 1.68\n"
     ]
    },
    {
     "name": "stdout",
     "output_type": "stream",
     "text": [
      "Your BMI is  17.006802721088437\n",
      "you are under weight\n"
     ]
    }
   ],
   "source": [
    "weight = float(input(\"Enter your weight in kg\"))\n",
    "height = float(input(\"Enter your height in meter\"))\n",
    "bmi = weight / (height**2)\n",
    "print(\"Your BMI is \", bmi)\n",
    "\n",
    "if bmi < 18.5:\n",
    "    print(\"you are under weight\")\n",
    "elif 18.5 <= bmi <= 24.9:\n",
    "    print(\"your weight is within normal range\")\n",
    "elif 25 <= bmi <= 29.9:\n",
    "    print(\"you are over weight\")\n",
    "else:\n",
    "    print(\"You are obese. It's important to consult with a healthcare professional for guidance\")"
   ]
  },
  {
   "cell_type": "markdown",
   "id": "95e63e18-2869-4e9e-a5de-d46895a1ff98",
   "metadata": {},
   "source": [
    "## Challenge level"
   ]
  },
  {
   "cell_type": "code",
   "execution_count": 36,
   "id": "25f9da07-aa53-4256-af9f-16af7cb42e2d",
   "metadata": {},
   "outputs": [
    {
     "name": "stdin",
     "output_type": "stream",
     "text": [
      "Enter your password: vish1234\n"
     ]
    },
    {
     "name": "stdout",
     "output_type": "stream",
     "text": [
      "Password is invalid. Please make sure it follows all rules\n",
      "-Minimum length of 8 characters\n",
      "-At least one uppercase letter\n",
      "-At least one lowercase letter\n",
      "-At least one digit\n"
     ]
    }
   ],
   "source": [
    "Password = input(\"Enter your password:\")\n",
    "min_length = 8\n",
    "requires_uppercase = True\n",
    "requires_lowercase = True\n",
    "requires_digit = True\n",
    "\n",
    "length_ok = len(Password) >= min_length\n",
    "uppercase_ok = any(char.isupper() for char in Password) if requires_uppercase else True\n",
    "lowercase_ok = any(char.lower() for char in Password) if requires_lowercase else True\n",
    "digit_ok = any(char.isdigit() for char in Password) if requires_digit else True\n",
    "\n",
    "if min_length and uppercase_ok and lowercase_ok and digit_ok:\n",
    "    print(\"Password is valid\")\n",
    "else:\n",
    "    print(\"Password is invalid. Please make sure it follows all rules\")\n",
    "    print(f\"-Minimum length of {min_length} characters\")\n",
    "    if requires_uppercase :\n",
    "        print(\"-At least one uppercase letter\")\n",
    "    if requires_lowercase:\n",
    "        print(\"-At least one lowercase letter\")\n",
    "    if requires_digit:\n",
    "        print(\"-At least one digit\")"
   ]
  },
  {
   "cell_type": "code",
   "execution_count": 40,
   "id": "17f08211-7fc9-43d9-8779-878ee5518546",
   "metadata": {},
   "outputs": [
    {
     "name": "stdin",
     "output_type": "stream",
     "text": [
      "Enter the numbers of rows for the matrices: 2\n",
      "Enter the numbers of columns for the matrices: 2\n"
     ]
    },
    {
     "name": "stdout",
     "output_type": "stream",
     "text": [
      "Enter the elements for the first matrix:\n"
     ]
    },
    {
     "name": "stdin",
     "output_type": "stream",
     "text": [
      "Enter elements at position (1,1): 12\n",
      "Enter elements at position (1,2): 10\n",
      "Enter elements at position (2,1): 11\n",
      "Enter elements at position (2,2): 09\n"
     ]
    },
    {
     "name": "stdout",
     "output_type": "stream",
     "text": [
      "Enter the elements for the second matrix:\n"
     ]
    },
    {
     "name": "stdin",
     "output_type": "stream",
     "text": [
      "Enter elements at position (1,1): 10\n",
      "Enter elements at position (1,2): 14\n",
      "Enter elements at position (2,1): 21\n",
      "Enter elements at position (2,2): 23\n"
     ]
    },
    {
     "name": "stdout",
     "output_type": "stream",
     "text": [
      "Matrix1:\n",
      "[12.0, 10.0]\n",
      "[11.0, 9.0]\n",
      "Matrix2:\n",
      "[10.0, 14.0]\n",
      "[21.0, 23.0]\n",
      "Matrix Addition:\n",
      "[22.0, 24.0]\n",
      "[32.0, 32.0]\n",
      "Matrix Addition:\n",
      "[2.0, -4.0]\n",
      "[-10.0, -14.0]\n"
     ]
    }
   ],
   "source": [
    "rows = int(input(\"Enter the numbers of rows for the matrices:\"))\n",
    "cols = int(input(\"Enter the numbers of columns for the matrices:\"))\n",
    "print(\"Enter the elements for the first matrix:\")\n",
    "matrix1 = [[float(input(f\"Enter elements at position ({i+1},{j+1}):\")) for j in range(cols)] for i in range(rows)]\n",
    "\n",
    "print(\"Enter the elements for the second matrix:\")\n",
    "matrix2 = [[float(input(f\"Enter elements at position ({i+1},{j+1}):\")) for j in range(cols)] for i in range(rows)]\n",
    "\n",
    "print(\"Matrix1:\")\n",
    "for row in matrix1:\n",
    "    print(row)\n",
    "print(\"Matrix2:\")\n",
    "for row in matrix2:\n",
    "    print(row)\n",
    "sum_matrix = [[matrix1[i][j] + matrix2[i][j] for j in range(cols)] for i in range(rows)]\n",
    "differance_matrix = [[matrix1[i][j] - matrix2[i][j] for j in range(cols)] for i in range(rows)]\n",
    "\n",
    "print(\"Matrix Addition:\")\n",
    "for row in sum_matrix:\n",
    "    print(row)\n",
    "print(\"Matrix Addition:\")\n",
    "for row in differance_matrix:\n",
    "    print(row)"
   ]
  },
  {
   "cell_type": "code",
   "execution_count": 41,
   "id": "afcfe936-782e-4784-ab27-3fdc11fbf68d",
   "metadata": {},
   "outputs": [
    {
     "name": "stdin",
     "output_type": "stream",
     "text": [
      "Enter the first number: 15\n",
      "Enter the second number 5\n"
     ]
    },
    {
     "name": "stdout",
     "output_type": "stream",
     "text": [
      "The GCD of the two numbers is:5\n"
     ]
    }
   ],
   "source": [
    "a = int(input(\"Enter the first number:\"))\n",
    "b = int(input(\"Enter the second number\"))\n",
    "\n",
    "while b:\n",
    "    a, b=b, a%b\n",
    "print(f\"The GCD of the two numbers is:{abs(a)}\")"
   ]
  },
  {
   "cell_type": "code",
   "execution_count": 43,
   "id": "98804483-f51f-4903-b2ad-f251a6f99017",
   "metadata": {},
   "outputs": [
    {
     "name": "stdin",
     "output_type": "stream",
     "text": [
      "Enter the number of rows for the first matrix: 2\n",
      "Enter the number of columns for the first matrix: 2\n",
      "Enter the number of columns for the second matrix: 3\n"
     ]
    },
    {
     "name": "stdout",
     "output_type": "stream",
     "text": [
      "Enter elements for the first matrix:\n"
     ]
    },
    {
     "name": "stdin",
     "output_type": "stream",
     "text": [
      "Enter element at position (1,1): 2\n",
      "Enter element at position (2,1): 3\n",
      "Enter element at position (1,2): 4\n",
      "Enter element at position (2,2): 5\n"
     ]
    },
    {
     "name": "stdout",
     "output_type": "stream",
     "text": [
      "Enter the elements for the second matrix:\n"
     ]
    },
    {
     "name": "stdin",
     "output_type": "stream",
     "text": [
      "Enter element at position (1,1): 1\n",
      "Enter element at position (2,1): 2\n",
      "Enter element at position (1,2): 4\n",
      "Enter element at position (2,2): 5\n",
      "Enter element at position (1,3): 12\n",
      "Enter element at position (2,3): 13\n"
     ]
    },
    {
     "name": "stdout",
     "output_type": "stream",
     "text": [
      "Matrix 1:\n",
      "[2.0, 3.0, 4.0, 5.0]\n",
      "Matrix 2:\n",
      "[1.0, 2.0, 4.0, 5.0, 12.0, 13.0]\n"
     ]
    },
    {
     "ename": "IndexError",
     "evalue": "list index out of range",
     "output_type": "error",
     "traceback": [
      "\u001b[1;31m---------------------------------------------------------------------------\u001b[0m",
      "\u001b[1;31mIndexError\u001b[0m                                Traceback (most recent call last)",
      "Cell \u001b[1;32mIn[43], line 21\u001b[0m\n\u001b[0;32m     19\u001b[0m     \u001b[38;5;28;01mfor\u001b[39;00m j \u001b[38;5;129;01min\u001b[39;00m \u001b[38;5;28mrange\u001b[39m(cols2):\n\u001b[0;32m     20\u001b[0m         \u001b[38;5;28;01mfor\u001b[39;00m k \u001b[38;5;129;01min\u001b[39;00m \u001b[38;5;28mrange\u001b[39m(cols1):\n\u001b[1;32m---> 21\u001b[0m             result_matrix[i][j] \u001b[38;5;241m+\u001b[39m\u001b[38;5;241m=\u001b[39m matrix1[i][k]\u001b[38;5;241m*\u001b[39mmatrix2[k][j]\n\u001b[0;32m     23\u001b[0m \u001b[38;5;28mprint\u001b[39m(\u001b[38;5;124m\"\u001b[39m\u001b[38;5;124mMatrix Multiplication Result:\u001b[39m\u001b[38;5;124m\"\u001b[39m)\n\u001b[0;32m     24\u001b[0m \u001b[38;5;28;01mfor\u001b[39;00m row \u001b[38;5;129;01min\u001b[39;00m result_matrix:\n",
      "\u001b[1;31mIndexError\u001b[0m: list index out of range"
     ]
    }
   ],
   "source": [
    "rows1 = int(input(\"Enter the number of rows for the first matrix:\"))\n",
    "cols1 = int(input(\"Enter the number of columns for the first matrix:\"))\n",
    "cols2 = int(input(\"Enter the number of columns for the second matrix:\"))\n",
    "print(\"Enter elements for the first matrix:\")\n",
    "matrix1 = [[float(input(f\"Enter element at position ({i+1},{j+1}):\")) for j in range (cols1)] for i in range(rows1)]\n",
    "\n",
    "print(\"Enter the elements for the second matrix:\")\n",
    "matrix2 = [[float(input(f\"Enter element at position ({i+1},{j+1}):\")) for j in range(cols2)] for i in range(cols1)]\n",
    "\n",
    "print(\"Matrix 1:\")\n",
    "for row in matrix1:\n",
    "    print(row)\n",
    "print(\"Matrix 2:\")\n",
    "for row in matrix2:\n",
    "    print(row)\n",
    "\n",
    "result_matrix = [[0 for _ in range(cols2) for _ in range(rows1)]]\n",
    "for i in range(rows1):\n",
    "    for j in range(cols2):\n",
    "        for k in range(cols1):\n",
    "            result_matrix[i][j] += matrix1[i][k]*matrix2[k][j]\n",
    "\n",
    "print(\"Matrix Multiplication Result:\")\n",
    "for row in result_matrix:\n",
    "    print(row)"
   ]
  },
  {
   "cell_type": "code",
   "execution_count": 47,
   "id": "b1498fc6-a52e-4043-b85f-9c60ddaf3668",
   "metadata": {},
   "outputs": [
    {
     "name": "stdin",
     "output_type": "stream",
     "text": [
      "Enter the number of rows for the first matrix:  2\n",
      "Enter the number of columns for the first matrix:  2\n",
      "Enter the number of columns for the second matrix:  3\n"
     ]
    },
    {
     "name": "stdout",
     "output_type": "stream",
     "text": [
      "\n",
      "Enter elements for the first matrix:\n"
     ]
    },
    {
     "name": "stdin",
     "output_type": "stream",
     "text": [
      "Enter element at position (1, 1):  1\n",
      "Enter element at position (1, 2):  2\n",
      "Enter element at position (2, 1):  4\n",
      "Enter element at position (2, 2):  5\n"
     ]
    },
    {
     "name": "stdout",
     "output_type": "stream",
     "text": [
      "\n",
      "Enter elements for the second matrix:\n"
     ]
    },
    {
     "name": "stdin",
     "output_type": "stream",
     "text": [
      "Enter element at position (1, 1):  2\n",
      "Enter element at position (1, 2):  3\n",
      "Enter element at position (1, 3):  56\n",
      "Enter element at position (2, 1):  6\n",
      "Enter element at position (2, 2):  4\n",
      "Enter element at position (2, 3):  5\n"
     ]
    },
    {
     "name": "stdout",
     "output_type": "stream",
     "text": [
      "\n",
      "Matrix 1:\n",
      "[1.0, 2.0]\n",
      "[4.0, 5.0]\n",
      "\n",
      "Matrix 2:\n",
      "[2.0, 3.0, 56.0]\n",
      "[6.0, 4.0, 5.0]\n",
      "\n",
      "Matrix Multiplication Result:\n",
      "[14.0, 11.0, 66.0]\n",
      "[38.0, 32.0, 249.0]\n"
     ]
    }
   ],
   "source": [
    "# Program for matrix multiplication without using functions\n",
    "\n",
    "# Get user input for matrix dimensions\n",
    "rows1 = int(input(\"Enter the number of rows for the first matrix: \"))\n",
    "cols1 = int(input(\"Enter the number of columns for the first matrix: \"))\n",
    "cols2 = int(input(\"Enter the number of columns for the second matrix: \"))\n",
    "\n",
    "# Input the matrices\n",
    "print(\"\\nEnter elements for the first matrix:\")\n",
    "matrix1 = [[float(input(f\"Enter element at position ({i + 1}, {j + 1}): \")) for j in range(cols1)] for i in range(rows1)]\n",
    "\n",
    "print(\"\\nEnter elements for the second matrix:\")\n",
    "matrix2 = [[float(input(f\"Enter element at position ({i + 1}, {j + 1}): \")) for j in range(cols2)] for i in range(cols1)]\n",
    "\n",
    "# Display the input matrices\n",
    "print(\"\\nMatrix 1:\")\n",
    "for row in matrix1:\n",
    "    print(row)\n",
    "\n",
    "print(\"\\nMatrix 2:\")\n",
    "for row in matrix2:\n",
    "    print(row)\n",
    "\n",
    "# Initialize the result matrix with zeros\n",
    "result_matrix = [[0 for _ in range(cols2)] for _ in range(rows1)]\n",
    "\n",
    "# Perform matrix multiplication\n",
    "for i in range(rows1):\n",
    "    for j in range(cols2):\n",
    "        for k in range(cols1):\n",
    "            result_matrix[i][j] += matrix1[i][k] * matrix2[k][j]\n",
    "\n",
    "# Display the result matrix\n",
    "print(\"\\nMatrix Multiplication Result:\")\n",
    "for row in result_matrix:\n",
    "    print(row)\n"
   ]
  },
  {
   "cell_type": "code",
   "execution_count": 11,
   "id": "1b39b016-cd26-4712-a076-756549caa603",
   "metadata": {
    "scrolled": true
   },
   "outputs": [
    {
     "name": "stdout",
     "output_type": "stream",
     "text": [
      "Welcome to Text-based Tic-Tac-Toe!\n",
      "  |   |  \n",
      "---------\n",
      "  |   |  \n",
      "---------\n",
      "  |   |  \n",
      "---------\n"
     ]
    },
    {
     "name": "stdin",
     "output_type": "stream",
     "text": [
      "Enter the row (0, 1, or 2):  0\n",
      "Enter the column (0, 1, or 2):  0\n"
     ]
    },
    {
     "name": "stdout",
     "output_type": "stream",
     "text": [
      "X |   |  \n",
      "---------\n",
      "  |   |  \n",
      "---------\n",
      "  |   |  \n",
      "---------\n",
      "Computer's turn:\n",
      "X | O |  \n",
      "---------\n",
      "  |   |  \n",
      "---------\n",
      "  |   |  \n",
      "---------\n"
     ]
    },
    {
     "name": "stdin",
     "output_type": "stream",
     "text": [
      "Enter the row (0, 1, or 2):  1\n",
      "Enter the column (0, 1, or 2):  2\n"
     ]
    },
    {
     "name": "stdout",
     "output_type": "stream",
     "text": [
      "X | O |  \n",
      "---------\n",
      "  |   | X\n",
      "---------\n",
      "  |   |  \n",
      "---------\n",
      "Computer's turn:\n",
      "X | O |  \n",
      "---------\n",
      "  |   | X\n",
      "---------\n",
      "O |   |  \n",
      "---------\n"
     ]
    },
    {
     "name": "stdin",
     "output_type": "stream",
     "text": [
      "Enter the row (0, 1, or 2):  2\n",
      "Enter the column (0, 1, or 2):  2\n"
     ]
    },
    {
     "name": "stdout",
     "output_type": "stream",
     "text": [
      "X | O |  \n",
      "---------\n",
      "  |   | X\n",
      "---------\n",
      "O |   | X\n",
      "---------\n",
      "Computer's turn:\n",
      "X | O |  \n",
      "---------\n",
      "  |   | X\n",
      "---------\n",
      "O | O | X\n",
      "---------\n"
     ]
    },
    {
     "name": "stdin",
     "output_type": "stream",
     "text": [
      "Enter the row (0, 1, or 2):  1\n",
      "Enter the column (0, 1, or 2):  1\n"
     ]
    },
    {
     "name": "stdout",
     "output_type": "stream",
     "text": [
      "X | O |  \n",
      "---------\n",
      "  | X | X\n",
      "---------\n",
      "O | O | X\n",
      "---------\n",
      "X wins!\n"
     ]
    }
   ],
   "source": [
    "import random\n",
    "\n",
    "def print_board(board):\n",
    "    for row in board:\n",
    "        print(\" | \".join(row))\n",
    "        print(\"-\" * 9)\n",
    "\n",
    "def check_winner(board, player):\n",
    "    for i in range(3):\n",
    "        if all(board[i][j] == player for j in range(3)) or all(board[j][i] == player for j in range(3)):\n",
    "            return True\n",
    "    if all(board[i][i] == player for i in range(3)) or all(board[i][2 - i] == player for i in range(3)):\n",
    "        return True\n",
    "    return False\n",
    "\n",
    "def is_board_full(board):\n",
    "    return all(board[i][j] != \" \" for i in range(3) for j in range(3))\n",
    "\n",
    "def get_empty_cells(board):\n",
    "    return [(i, j) for i in range(3) for j in range(3) if board[i][j] == \" \"]\n",
    "\n",
    "board = [[\" \" for _ in range(3)] for _ in range(3)]\n",
    "players = [\"X\", \"O\"]\n",
    "current_player = random.choice(players)\n",
    "\n",
    "print(\"Welcome to Text-based Tic-Tac-Toe!\")\n",
    "print_board(board)\n",
    "\n",
    "while True:\n",
    "    if current_player == \"X\":\n",
    "        while True:\n",
    "            try:\n",
    "                row = int(input(\"Enter the row (0, 1, or 2): \"))\n",
    "                col = int(input(\"Enter the column (0, 1, or 2): \"))\n",
    "                if 0 <= row < 3 and 0 <= col < 3 and board[row][col] == \" \":\n",
    "                    break\n",
    "                else:\n",
    "                    print(\"Invalid move. Try again.\")\n",
    "            except ValueError:\n",
    "                print(\"Invalid input. Please enter a number.\")\n",
    "    else:\n",
    "        print(\"Computer's turn:\")\n",
    "        row, col = random.choice(get_empty_cells(board))\n",
    "\n",
    "    board[row][col] = current_player\n",
    "    print_board(board)\n",
    "\n",
    "    if check_winner(board, current_player):\n",
    "        print(f\"{current_player} wins!\")\n",
    "        break\n",
    "    elif is_board_full(board):\n",
    "        print(\"It's a tie!\")\n",
    "        break\n",
    "\n",
    "    current_player = \"O\" if current_player == \"X\" else \"X\"\n"
   ]
  },
  {
   "cell_type": "code",
   "execution_count": 12,
   "id": "d8c0bea7-bedd-4896-a887-71e6d63f64b0",
   "metadata": {},
   "outputs": [
    {
     "name": "stdin",
     "output_type": "stream",
     "text": [
      "Enter the number of fibonacci term to generate: 5\n"
     ]
    },
    {
     "name": "stdout",
     "output_type": "stream",
     "text": [
      "Fibonacci numbers up to term 5: [0, 1, 1, 2, 3]\n"
     ]
    }
   ],
   "source": [
    "try:\n",
    "    n = int(input(\"Enter the number of fibonacci term to generate:\"))\n",
    "    if n<=0:\n",
    "        raise ValueError(\"Please enter a positive integer.\")\n",
    "    fibonacci_sequence = [0,1]\n",
    "\n",
    "    for i in range(2,n):\n",
    "        next_number = fibonacci_sequence[-1] + fibonacci_sequence[-2]\n",
    "        fibonacci_sequence.append(next_number)\n",
    "    print(f\"Fibonacci numbers up to term {n}: {fibonacci_sequence[:n]}\")\n",
    "except ValueError as e:\n",
    "    print(f\"Error{e}\")"
   ]
  },
  {
   "cell_type": "code",
   "execution_count": 16,
   "id": "08b493a9-f792-4793-838e-e55fd7b72f61",
   "metadata": {},
   "outputs": [
    {
     "name": "stdin",
     "output_type": "stream",
     "text": [
      "Enter the value of n to calculate the nth fibonacci term: 10\n"
     ]
    },
    {
     "name": "stdout",
     "output_type": "stream",
     "text": [
      "The 10th fibonacci term is: 55\n"
     ]
    }
   ],
   "source": [
    "try:\n",
    "    n = int(input(\"Enter the value of n to calculate the nth fibonacci term:\"))\n",
    "    if n<0:\n",
    "        raise ValueError(\"Please enter the non-negative integer\")\n",
    "    memo = {0:0,1:1}\n",
    "    for i in range(2,n+1):\n",
    "        memo[i] = memo[i-1] + memo[i-2]\n",
    "    fibonacci_result = memo[n]\n",
    "    print(f\"The {n}th fibonacci term is: {fibonacci_result}\")\n",
    "except ValueError as e:\n",
    "    print(f\"Error: {e}\")"
   ]
  },
  {
   "cell_type": "code",
   "execution_count": 25,
   "id": "5fd79b52-7b3c-4d7b-a5aa-db6bced248ba",
   "metadata": {},
   "outputs": [
    {
     "name": "stdin",
     "output_type": "stream",
     "text": [
      "Enter the year: 2020\n",
      "Enter the month (1-12): 8\n"
     ]
    },
    {
     "name": "stdout",
     "output_type": "stream",
     "text": [
      "August 2020\n",
      "MO TU WE TH FR SA SU\n",
      "           1  2 \n",
      " 3  4  5  6  7  8  9 \n",
      "10 11 12 13 14 15 16 \n",
      "17 18 19 20 21 22 23 \n",
      "24 25 26 27 28 29 30 \n",
      "31             \n"
     ]
    }
   ],
   "source": [
    "import calendar\n",
    "\n",
    "try:\n",
    "    year = int(input(\"Enter the year:\"))\n",
    "    month = int(input(\"Enter the month (1-12):\"))\n",
    "\n",
    "    if 1 <= month <= 12:\n",
    "        cal = calendar.monthcalendar(year, month)\n",
    "        print(calendar.month_name[month],year)\n",
    "        print(\"MO TU WE TH FR SA SU\")\n",
    "\n",
    "        for week in cal:\n",
    "            for day in week:\n",
    "                if day == 0:\n",
    "                    print(\" \",end=\" \")\n",
    "                else:\n",
    "                    print(f\"{day:2d}\",end=\" \")\n",
    "            print()\n",
    "    else:\n",
    "        print(\"Invalid month.Please enter a number between 1 and 12\")\n",
    "except ValueError as e:\n",
    "    print(f\"Error {e}\")"
   ]
  },
  {
   "cell_type": "code",
   "execution_count": 2,
   "id": "9a5708da-e0a0-4c6a-bb75-3a90824ef422",
   "metadata": {},
   "outputs": [
    {
     "name": "stdout",
     "output_type": "stream",
     "text": [
      "Your cards:[8, 8], current score: 16\n",
      "Computer's first card: 2\n"
     ]
    },
    {
     "name": "stdin",
     "output_type": "stream",
     "text": [
      "Type 'y' to get another card, 'n' to pass: y\n"
     ]
    },
    {
     "name": "stdout",
     "output_type": "stream",
     "text": [
      "Your cards:[8, 8, 6], current score: 22\n",
      "Computer's first card: 2\n",
      "Your final hand:[8, 8, 6], final score: 22\n",
      "Computer's final hand: [2, 1, 11, 6], final score: 20\n",
      "You went over, You lose!\n"
     ]
    }
   ],
   "source": [
    "import random\n",
    "def deal_card():\n",
    "    cards = [1,2,4,5,6,7,12,8,11,10,3,11,6,9]\n",
    "    return random.choice(cards)\n",
    "\n",
    "user_cards = [deal_card(), deal_card()]\n",
    "computer_cards = [deal_card(),deal_card()]\n",
    "\n",
    "def calculate_score(cards):\n",
    "    if sum(cards) == 21 and len(cards) > 21:\n",
    "        return 0\n",
    "    if 11 in cards and sum(cards) > 21:\n",
    "        cards.remove(11)\n",
    "        cards.append(1)\n",
    "    return sum(cards)\n",
    "def compare(user_score, computer_score):\n",
    "    if user_score == computer_score:\n",
    "        return \"It's draw !\"\n",
    "    elif computer_score == 0:\n",
    "        return \"You lose. Computer has Blackjack!\"\n",
    "    elif user_score == 0:\n",
    "        return \"You win with Blackjack!\"\n",
    "    elif user_score>21:\n",
    "        return \"You went over, You lose!\"\n",
    "    elif computer_score>21:\n",
    "        return \"Computer went over. you win!\"\n",
    "    elif user_score>computer_score:\n",
    "        return \"You Win!\"\n",
    "    else:\n",
    "        return \"You lose.\"\n",
    "\n",
    "game_over = False\n",
    "\n",
    "while not game_over:\n",
    "    user_score = calculate_score(user_cards)\n",
    "    computer_score = calculate_score(computer_cards)\n",
    "\n",
    "    print(f\"Your cards:{user_cards}, current score: {user_score}\")\n",
    "    print(f\"Computer's first card: {computer_cards[0]}\")\n",
    "\n",
    "    if user_cards == 0 or computer_score == 0 or user_score >21:\n",
    "        game_over = True\n",
    "    else:\n",
    "        should_continue = input(\"Type 'y' to get another card, 'n' to pass:\").lower()\n",
    "        if should_continue == 'y':\n",
    "            user_cards.append(deal_card())\n",
    "        else:\n",
    "            game_over = True\n",
    "\n",
    "while computer_score != 0 and computer_score < 17:\n",
    "    computer_cards.append(deal_card())\n",
    "    computer_score = calculate_score(computer_cards)\n",
    "\n",
    "print(f\"Your final hand:{user_cards}, final score: {user_score}\")\n",
    "print(f\"Computer's final hand: {computer_cards}, final score: {computer_score}\")\n",
    "print(compare(user_score, computer_score))"
   ]
  },
  {
   "cell_type": "code",
   "execution_count": 5,
   "id": "05455687-5d69-4368-ba26-e867a5a9142c",
   "metadata": {},
   "outputs": [
    {
     "name": "stdin",
     "output_type": "stream",
     "text": [
      "Enter a number to find its prime factors. 15\n"
     ]
    },
    {
     "name": "stdout",
     "output_type": "stream",
     "text": [
      "Prime factors of 1:[3, 5]\n"
     ]
    }
   ],
   "source": [
    "try:\n",
    "    user_input = int(input(\"Enter a number to find its prime factors.\"))\n",
    "\n",
    "    if user_input < 2:\n",
    "        print(\"Please enter a number greater than or equal to 2\")\n",
    "    else:\n",
    "        prime_factors = []\n",
    "        divisor = 2\n",
    "        while user_input > 1:\n",
    "            while user_input % divisor == 0 :\n",
    "                prime_factors.append(divisor)\n",
    "                user_input //= divisor\n",
    "            divisor += 1\n",
    "        print(f\"Prime factors of {user_input}:{prime_factors}\")\n",
    "except ValueError:\n",
    "    print(\"Invalid input. Please enter a valid integer.\")"
   ]
  }
 ],
 "metadata": {
  "kernelspec": {
   "display_name": "Python 3 (ipykernel)",
   "language": "python",
   "name": "python3"
  },
  "language_info": {
   "codemirror_mode": {
    "name": "ipython",
    "version": 3
   },
   "file_extension": ".py",
   "mimetype": "text/x-python",
   "name": "python",
   "nbconvert_exporter": "python",
   "pygments_lexer": "ipython3",
   "version": "3.11.7"
  }
 },
 "nbformat": 4,
 "nbformat_minor": 5
}
